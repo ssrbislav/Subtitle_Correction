{
 "cells": [
  {
   "cell_type": "code",
   "execution_count": 16,
   "metadata": {},
   "outputs": [
    {
     "name": "stdout",
     "output_type": "stream",
     "text": [
      "[MoviePy] Writing audio in Sounds/TedTalk2Audio.wav\n"
     ]
    },
    {
     "name": "stderr",
     "output_type": "stream",
     "text": [
      "100%|███████████████████████████████████████████████████████████████████████████████| 872/872 [00:01<00:00, 652.47it/s]\n"
     ]
    },
    {
     "name": "stdout",
     "output_type": "stream",
     "text": [
      "[MoviePy] Done.\n"
     ]
    }
   ],
   "source": [
    "#separate the sound\n",
    "import moviepy.editor as me\n",
    "\n",
    "video = me.VideoFileClip(\"Samples/speech.video.mp4\")\n",
    "video.audio.write_audiofile(\"Sounds/SpeechAudio.wav\",  fps=24000)\n",
    "video.reader.close()\n",
    "video.audio.reader.close_proc()"
   ]
  },
  {
   "cell_type": "code",
   "execution_count": 17,
   "metadata": {},
   "outputs": [
    {
     "name": "stdout",
     "output_type": "stream",
     "text": [
      "Done!\n"
     ]
    }
   ],
   "source": [
    "#filter the sound\n",
    "import matplotlib.pyplot as plt\n",
    "import numpy as np\n",
    "import wave\n",
    "import sys\n",
    "import math\n",
    "import contextlib\n",
    "\n",
    "input_file = 'Sounds/SpeechAudio.wav'\n",
    "output_file = 'Sounds/filteredSpeech.wav'\n",
    "\n",
    "cutOffFrequency = 500.0\n",
    "\n",
    "def running_mean(x, windowSize):\n",
    "  cumsum = np.cumsum(np.insert(x, 0, 0)) \n",
    "  return (cumsum[windowSize:] - cumsum[:-windowSize]) / windowSize\n",
    "\n",
    "def interpret_wav(raw_bytes, n_frames, n_channels, sample_width, interleaved = True):\n",
    "\n",
    "    if sample_width == 1:\n",
    "        dtype = np.uint8 \n",
    "    elif sample_width == 2:\n",
    "        dtype = np.int16 \n",
    "\n",
    "    channels = np.frombuffer(raw_bytes, dtype=dtype)\n",
    "\n",
    "    channels.shape = (n_frames, n_channels)\n",
    "    channels = channels.T\n",
    "\n",
    "    return channels\n",
    "\n",
    "with contextlib.closing(wave.open(input_file,'rb')) as spf:\n",
    "    sampleRate = spf.getframerate()\n",
    "    ampWidth = spf.getsampwidth()\n",
    "    nChannels = spf.getnchannels()\n",
    "    nFrames = spf.getnframes()\n",
    "\n",
    "    # Extract Raw Audio from multi-channel Wav File\n",
    "    signal = spf.readframes(nFrames*nChannels)\n",
    "    spf.close()\n",
    "    channels = interpret_wav(signal, nFrames, nChannels, ampWidth, True)\n",
    "\n",
    "    freqRatio = (cutOffFrequency/sampleRate)\n",
    "    N = int(math.sqrt(0.196196 + freqRatio**2)/freqRatio)\n",
    "\n",
    "    filtered = running_mean(channels[0], N).astype(channels.dtype)\n",
    "\n",
    "    wav_file = wave.open(output_file, \"w\")\n",
    "    wav_file.setparams((1, ampWidth, sampleRate, nFrames, spf.getcomptype(), spf.getcompname()))\n",
    "    wav_file.writeframes(filtered.tobytes('C'))\n",
    "    wav_file.close()\n",
    "    \n",
    "print(\"Done!\")"
   ]
  },
  {
   "cell_type": "code",
   "execution_count": 18,
   "metadata": {},
   "outputs": [
    {
     "name": "stdout",
     "output_type": "stream",
     "text": [
      "Loading...\n"
     ]
    },
    {
     "data": {
      "image/png": "[encoded data removed]",
      "text/plain": [
       "<Figure size 432x288 with 1 Axes>"
      ]
     },
     "metadata": {
      "needs_background": "light"
     },
     "output_type": "display_data"
    }
   ],
   "source": [
    "#plot \n",
    "import matplotlib.pyplot as plt\n",
    "import numpy as np\n",
    "from statistics import mean\n",
    "import wave\n",
    "import sys\n",
    "\n",
    "plt.figure(1)\n",
    "\n",
    "class Audio:\n",
    "    def __init__(self, audio):\n",
    "        self.audio = wave.open(audio,'r')\n",
    "        self.signal = self.audio.readframes(-1)\n",
    "        self.signal = np.frombuffer(self.signal, 'Int16')\n",
    "        self.fr = self.audio.getframerate()\n",
    "        self.time = np.linspace(0, 100, num=(len(self.signal)))\n",
    "        self.fft = np.fft.fft(self.signal)\n",
    "\n",
    "    def plot(self):\n",
    "        plt.title(\"Audio waveforms\")\n",
    "        plt.plot(self.time, self.signal, '.')\n",
    "        \n",
    "print(\"Loading...\")\n",
    "gana = Audio('Sounds/SpeechAudio.wav')\n",
    "humm = Audio('Sounds/filteredSpeech.wav')\n",
    "\n",
    "gana.plot()\n",
    "humm.plot()\n",
    "plt.show()"
   ]
  },
  {
   "cell_type": "code",
   "execution_count": 19,
   "metadata": {},
   "outputs": [
    {
     "name": "stdout",
     "output_type": "stream",
     "text": [
      "Waiting for operation to complete...\n",
      "Done!\n"
     ]
    }
   ],
   "source": [
    "#speech to text and writing in .srt\n",
    "from google.cloud import speech_v1p1beta1 as speech\n",
    "from google.cloud.speech_v1p1beta1 import enums\n",
    "from google.cloud.speech_v1p1beta1 import types\n",
    "from google.oauth2 import service_account\n",
    "from datetime import datetime, timedelta\n",
    "\n",
    "credentials = service_account.Credentials.from_service_account_file('sifra.json')\n",
    "\n",
    "client = speech.SpeechClient(credentials=credentials)\n",
    "\n",
    "uri = 'gs://soft_files/filteredSpeech.wav'\n",
    "\n",
    "audio = types.RecognitionAudio(uri=uri)\n",
    "config = types.RecognitionConfig(\n",
    "    encoding=speech.enums.RecognitionConfig.AudioEncoding.LINEAR16,\n",
    "    sample_rate_hertz=24000,\n",
    "    language_code='en-US',\n",
    "    audio_channel_count=1,\n",
    "    enable_word_time_offsets=True)\n",
    "\n",
    "operation = client.long_running_recognize(config, audio)\n",
    "\n",
    "print('Waiting for operation to complete...')\n",
    "response = operation.result()\n",
    "\n",
    "block = 0\n",
    "start_time = datetime(100,1,1,0,0,0)\n",
    "firstTitle = 1\n",
    "\n",
    "for i, result in enumerate(response.results):\n",
    "    alternative = result.alternatives[0]\n",
    "    start = result.alternatives[0].words[0].start_time;\n",
    "    end = 0;\n",
    "    for word_info in result.alternatives[0].words:\n",
    "        end = word_info.end_time\n",
    "    block+=1\n",
    "    block_str = str(block)\n",
    "    if firstTitle == 1:\n",
    "        time_add = len(alternative.transcript.split())*0.3\n",
    "        end_time = start_time + timedelta(0, end.seconds + end.nanos * 1e-9)\n",
    "        begin_time = end_time - timedelta(0, time_add)\n",
    "        s = end_time.strftime('%H:%M:%S,%f')\n",
    "        s2 = begin_time.strftime('%H:%M:%S,%f')\n",
    "        firstTitle = 2\n",
    "        \n",
    "    else:\n",
    "        begin_time = start_time + timedelta(0, start.seconds + start.nanos * 1e-9)\n",
    "        time_add = len(alternative.transcript.split())*0.3\n",
    "        end_time = begin_time + timedelta(0, time_add)\n",
    "        s = end_time.strftime('%H:%M:%S,%f')\n",
    "        s2 = begin_time.strftime('%H:%M:%S,%f')\n",
    "    \n",
    "    with open(\"Subtitles/SpeechTitlovi.srt\", \"a\") as f:\n",
    "            f.write(block_str)\n",
    "            f.write(\"\\n\")\n",
    "            f.write(s2[:-3])\n",
    "            f.write(\" --> \")\n",
    "            f.write(s[:-3])\n",
    "            f.write(\"\\n\")\n",
    "            f.write(alternative.transcript)\n",
    "            f.write(\"\\n\")\n",
    "            f.write(\"\\n\")\n",
    "    \n",
    "print(\"Done!\")"
   ]
  },
  {
   "cell_type": "code",
   "execution_count": 20,
   "metadata": {},
   "outputs": [
    {
     "name": "stdout",
     "output_type": "stream",
     "text": [
      "Done!\n"
     ]
    }
   ],
   "source": [
    "#shifting subtitle\n",
    "import pysrt\n",
    "subs = pysrt.open('Subtitles/SpeechTitlovi.srt')\n",
    "subs.shift(seconds=2) \n",
    "subs.save('Subtitles/SpeechShiftedTitlovi.srt')\n",
    "\n",
    "print(\"Done!\")"
   ]
  },
  {
   "cell_type": "code",
   "execution_count": 21,
   "metadata": {},
   "outputs": [
    {
     "name": "stdout",
     "output_type": "stream",
     "text": [
      "Finished!\n"
     ]
    }
   ],
   "source": [
    "#compare original subtitle to shifted subtitle, and return it to correct state\n",
    "from datetime import datetime\n",
    "import time\n",
    "class Title:\n",
    "    def __init__(self, block, beginTime, endTime,transcript):\n",
    "        self.block = block\n",
    "        self.beginTime = beginTime\n",
    "        self.endTime = endTime\n",
    "        self.transcript = transcript\n",
    "\n",
    "numb_original_begin = 0\n",
    "      \n",
    "with open(\"Subtitles/Original/SpeechOriginal.srt\", \"r\") as o:\n",
    "    numb_line = 1\n",
    "    for line in o:\n",
    "        if numb_line == 2:\n",
    "            a = line.split(\"-->\")\n",
    "            numb_line = numb_line + 1\n",
    "            h,m,s = a[0].split(\":\")\n",
    "            s1,s2 = s.split(\",\")\n",
    "            numb_original_begin = timedelta(hours=int(h),minutes=int(m),seconds=int(s1), milliseconds = int(s2)).total_seconds()\n",
    "        else:\n",
    "            numb_line = numb_line + 1\n",
    "\n",
    "titleList = []\n",
    "with open(\"Subtitles/SpeechShiftedTitlovi.srt\", \"r\") as f:\n",
    "    numb_line = 1\n",
    "    title = Title(0,\"\", \"\", \"\")\n",
    "    for line in f:\n",
    "        if numb_line == 1:\n",
    "            title.block = line.strip()\n",
    "            numb_line = numb_line + 1\n",
    "        elif numb_line == 2:\n",
    "            a = line.strip().split(\"-->\")\n",
    "            h,m,s = a[0].split(\":\")\n",
    "            s1,s2 = s.split(\",\")\n",
    "            numb_begin = timedelta(hours=int(h),minutes=int(m),seconds=int(s1), milliseconds = int(s2)).total_seconds()\n",
    "            h2,m2,s2 = a[1].split(\":\")\n",
    "            s3,s4 = s2.split(\",\")\n",
    "            numb_end = timedelta(hours=int(h2),minutes=int(m2),seconds=int(s3), milliseconds = int(s4)).total_seconds()\n",
    "            title.beginTime = numb_begin\n",
    "            title.endTime = numb_end\n",
    "            numb_line = numb_line + 1\n",
    "\n",
    "        elif numb_line == 3:\n",
    "            title.transcript = line.strip()\n",
    "            numb_line = numb_line + 1\n",
    "\n",
    "        else:\n",
    "            titleList.append(title)\n",
    "            title = Title(0,\"\", \"\", \"\")\n",
    "            numb_line = 1\n",
    "\n",
    "first = True\n",
    "diffrence = 0\n",
    "newList = []\n",
    "for t in titleList:\n",
    "    if first:\n",
    "        diffrence = numb_original_begin - t.beginTime\n",
    "        t.beginTime = \"0\" + str(timedelta(seconds=numb_original_begin)).replace('.',',')[:-3]\n",
    "        num_end = t.endTime + diffrence\n",
    "        t.endTime = \"0\" + str(timedelta(seconds=num_end)).replace('.',',')[:-3]\n",
    "        newList.append(t)\n",
    "        first = False\n",
    "\n",
    "    else:\n",
    "        num_begin = t.beginTime + diffrence\n",
    "        t.beginTime = \"0\" + str(timedelta(seconds=num_begin)).replace('.',',')[:-3]\n",
    "        num_end = t.endTime + diffrence\n",
    "        t.endTime = \"0\" + str(timedelta(seconds=num_end)).replace('.',',')[:-3]\n",
    "        newList.append(t)\n",
    "    \n",
    "with open(\"Subtitles/SpeechFinal.srt\", \"w\") as new:\n",
    "    for ti in newList:\n",
    "        new.write(ti.block)\n",
    "        new.write(\"\\n\")\n",
    "        new.write(ti.beginTime)\n",
    "        new.write(\" --> \")\n",
    "        new.write(ti.endTime)\n",
    "        new.write(\"\\n\")\n",
    "        new.write(ti.transcript)\n",
    "        new.write(\"\\n\")\n",
    "        new.write(\"\\n\")\n",
    "        \n",
    "print(\"Finished!\")"
   ]
  },
  {
   "cell_type": "code",
   "execution_count": 23,
   "metadata": {},
   "outputs": [
    {
     "name": "stdout",
     "output_type": "stream",
     "text": [
      "Over the past two years youth unemployment has been on the rise It currently represents just under 40% of all unemployment in Australia Young graduates leaving University and finding it more and more difficult 2 into any form of creative industry Now the Cummins stipulation is that You can't get a job without experience But you can't get a job to get the Experian Now Maine wild 42% of small businesses fail In 2003 to 2007 In the figures having improved much Among the many reasons this is happening is Consistent lack of quality in their branding marketing websites and Design The kind Of training that these graduates of just Dispensary Axios training for Now what if there was an Enterprise \n",
      "\n",
      "\n",
      "are you supposed to use youth unemployment has been on the rise it currently represents just under 40% of all unemployment in Australia young graduates leaving University and planning it more and more difficult to enter any form of creative industry now the common stipulation is that you can get a job without experience but you can't get a job to get the experience now Maine wild 42% of small businesses filed in 2003 to 2007 in the figures haven't improved much amongst many raisins this is happening is a consistent lack of quality in a branding marketing websites and Designs the kind of training that these graduates have just spent 3 to 6 years training for now what if there was an Enterprise the breach these two sets of frightening statistics I want to build that bridge \n",
      "\n",
      "\n",
      "The diffrence in start time is 0 minutes and 0 seconds\n",
      "Matching percentage: 59.50\n"
     ]
    }
   ],
   "source": [
    "#Checking the matching percentage of two .srt files (text generated inside files)\n",
    "#Checking the start time of both .srt files (by how much they differ)\n",
    "import pysrt\n",
    "from difflib import SequenceMatcher\n",
    "\n",
    "def percentage_match(a, b):\n",
    "    return SequenceMatcher(None, a, b).ratio()\n",
    "\n",
    "subs = pysrt.open('Subtitles/Original/SpeechOriginal.srt')\n",
    "subs2 = pysrt.open('Subtitles/SpeechFinal.srt')\n",
    "\n",
    "string = \"\"\n",
    "string2 = \"\"\n",
    "\n",
    "for x in subs:\n",
    "    string += x.text \n",
    "    string += \" \"\n",
    "\n",
    "time_m = subs[0].start.minutes\n",
    "time_s = subs[0].start.seconds\n",
    "\n",
    "for y in subs2:\n",
    "    string2 += y.text \n",
    "    string2 += \" \"\n",
    "\n",
    "time2_m = subs2[0].start.minutes\n",
    "time2_s = subs2[0].start.seconds\n",
    "\n",
    "print(string)\n",
    "print(\"\\n\")\n",
    "print(string2)\n",
    "print(\"\\n\")\n",
    "\n",
    "minutes = abs(subs[0].start.minutes - subs2[0].start.minutes)\n",
    "seconds = abs(subs[0].start.seconds - subs2[0].start.seconds)\n",
    "\n",
    "print(\"The diffrence in start time is %d minutes and %d seconds\" % (minutes, seconds))\n",
    "\n",
    "print(\"Matching percentage: %.2f\" % (percentage_match(string.lower(), string2.lower())*100))"
   ]
  },
  {
   "cell_type": "code",
   "execution_count": null,
   "metadata": {},
   "outputs": [],
   "source": []
  }
 ],
 "metadata": {
  "kernelspec": {
   "display_name": "Python 3",
   "language": "python",
   "name": "python3"
  },
  "language_info": {
   "codemirror_mode": {
    "name": "ipython",
    "version": 3
   },
   "file_extension": ".py",
   "mimetype": "text/x-python",
   "name": "python",
   "nbconvert_exporter": "python",
   "pygments_lexer": "ipython3",
   "version": "3.7.1"
  }
 },
 "nbformat": 4,
 "nbformat_minor": 2
}
