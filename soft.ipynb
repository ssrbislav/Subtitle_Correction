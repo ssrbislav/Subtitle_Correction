{
 "cells": [
  {
   "cell_type": "code",
   "execution_count": null,
   "metadata": {},
   "outputs": [
    {
     "name": "stdout",
     "output_type": "stream",
     "text": [
      "[MoviePy] Writing audio in C:/Users/Bojana/Desktop/soft projekat/audio.wav\n"
     ]
    },
    {
     "name": "stderr",
     "output_type": "stream",
     "text": [
      " 59%|██████████████████████████████████████████▊                              | 87069/148570 [01:06<00:52, 1173.00it/s]"
     ]
    }
   ],
   "source": [
    "import moviepy.editor as me\n",
    "video = me.VideoFileClip(\"C:/Users/Bojana/Desktop/soft projekat/Overboard.mp4\")\n",
    "video.audio.write_audiofile(\"C:/Users/Bojana/Desktop/soft projekat/audio.wav\")"
   ]
  },
  {
   "cell_type": "code",
   "execution_count": null,
   "metadata": {},
   "outputs": [],
   "source": []
  }
 ],
 "metadata": {
  "kernelspec": {
   "display_name": "Python 3",
   "language": "python",
   "name": "python3"
  },
  "language_info": {
   "codemirror_mode": {
    "name": "ipython",
    "version": 3
   },
   "file_extension": ".py",
   "mimetype": "text/x-python",
   "name": "python",
   "nbconvert_exporter": "python",
   "pygments_lexer": "ipython3",
   "version": "3.7.1"
  }
 },
 "nbformat": 4,
 "nbformat_minor": 2
}
